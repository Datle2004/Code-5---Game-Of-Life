{
 "cells": [
  {
   "cell_type": "code",
   "execution_count": 1,
   "metadata": {},
   "outputs": [
    {
     "name": "stdout",
     "output_type": "stream",
     "text": [
      "0\n",
      "3\n",
      "6\n",
      "9\n",
      "12\n",
      "15\n",
      "18\n",
      "21\n",
      "24\n",
      "27\n",
      "30\n",
      "33\n",
      "36\n",
      "39\n",
      "42\n",
      "45\n",
      "48\n",
      "51\n",
      "54\n",
      "57\n",
      "60\n",
      "63\n",
      "66\n",
      "69\n",
      "72\n",
      "75\n",
      "78\n",
      "81\n",
      "84\n",
      "87\n",
      "90\n",
      "93\n",
      "96\n",
      "99\n"
     ]
    }
   ],
   "source": [
    "i = 0\n",
    "while i < 100:\n",
    "    if i % 3 == 0:\n",
    "        print(i)\n",
    "        i+=3\n",
    "    else:\n",
    "        i+=3    "
   ]
  },
  {
   "cell_type": "code",
   "execution_count": 7,
   "metadata": {},
   "outputs": [
    {
     "name": "stdout",
     "output_type": "stream",
     "text": [
      "nhap sai\n",
      "nhap sai\n",
      "5.0\n"
     ]
    }
   ],
   "source": [
    "i = float(input(\"nhap\"))\n",
    "while i != int(i):\n",
    "    print(\"nhap sai\")\n",
    "    i = i = float(input(\"nhap\"))\n",
    "print(i)\n",
    "    "
   ]
  },
  {
   "cell_type": "code",
   "execution_count": 13,
   "metadata": {},
   "outputs": [
    {
     "name": "stdout",
     "output_type": "stream",
     "text": [
      "Wrong number\n",
      "2\n",
      "Your number of guess: 2\n"
     ]
    }
   ],
   "source": [
    "import random\n",
    "b = random.randint(1,10)\n",
    "a = int(input())\n",
    "count = 1\n",
    "if a < 1 or a > 10:\n",
    "    print(\"Invalid\")\n",
    "\n",
    "else:\n",
    "    while a != b:\n",
    "        print(\"Wrong number\")\n",
    "        count +=1\n",
    "        a = int(input())\n",
    "print(f\"Your correct number is: {a}\")\n",
    "print(f\"Your number of guess: {count}\")\n",
    "\n",
    "\n",
    "    \n"
   ]
  },
  {
   "cell_type": "code",
   "execution_count": null,
   "metadata": {},
   "outputs": [],
   "source": [
    "#khong nen dung bien i vi day la bien nhay cam"
   ]
  },
  {
   "cell_type": "code",
   "execution_count": null,
   "metadata": {},
   "outputs": [],
   "source": [
    "while True: #vong lap vo tan"
   ]
  },
  {
   "cell_type": "code",
   "execution_count": 19,
   "metadata": {},
   "outputs": [
    {
     "name": "stdout",
     "output_type": "stream",
     "text": [
      "Wrong number\n",
      "Wrong number\n",
      "Wrong number\n",
      "Wrong number\n",
      "Your correct number is: 5\n",
      "Your number of guess: 5\n"
     ]
    }
   ],
   "source": [
    "import random\n",
    "b = random.randint(1,10)\n",
    "a = int(input())\n",
    "count = 1\n",
    "while True:\n",
    "    if a == b:\n",
    "        break\n",
    "    else:\n",
    "        print(\"Wrong number\")\n",
    "        count +=1\n",
    "        a = int(input())\n",
    "print(f\"Your correct number is: {a}\")\n",
    "print(f\"Your number of guess: {count}\")\n",
    "        \n",
    "    "
   ]
  },
  {
   "cell_type": "code",
   "execution_count": 23,
   "metadata": {},
   "outputs": [
    {
     "name": "stdout",
     "output_type": "stream",
     "text": [
      "i =  1\n",
      "i*i =  1\n",
      "i =  3\n",
      "i*i =  9\n"
     ]
    }
   ],
   "source": [
    "#(1, 3)\n",
    "for i in range(1,5,2):\n",
    "    print(\"i = \", i)\n",
    "    print(\"i*i = \", i**2)"
   ]
  },
  {
   "cell_type": "code",
   "execution_count": 28,
   "metadata": {},
   "outputs": [
    {
     "name": "stdout",
     "output_type": "stream",
     "text": [
      "6\n"
     ]
    }
   ],
   "source": [
    "a = int(input())\n",
    "sum = 0\n",
    "for i in range(1,a+1):\n",
    "    sum += i\n",
    "print(sum)"
   ]
  },
  {
   "cell_type": "code",
   "execution_count": null,
   "metadata": {},
   "outputs": [],
   "source": []
  },
  {
   "cell_type": "code",
   "execution_count": 41,
   "metadata": {},
   "outputs": [
    {
     "name": "stdout",
     "output_type": "stream",
     "text": [
      "     *\n",
      "    ***\n",
      "   *****\n",
      "  *******\n",
      " *********\n"
     ]
    }
   ],
   "source": [
    "a = int(input())\n",
    "for i in range(1, a+1):\n",
    "    print(' ' * (a-i), end = ' ') #end la de thay vi xuong dong ta thay bang cach\n",
    "    print('*'*(2*i-1))\n",
    "            \n",
    "    \n",
    "\n"
   ]
  },
  {
   "cell_type": "code",
   "execution_count": null,
   "metadata": {},
   "outputs": [],
   "source": [
    "1\n",
    "3\n",
    "5\n",
    "7\n",
    "9\n"
   ]
  }
 ],
 "metadata": {
  "kernelspec": {
   "display_name": "Python 3",
   "language": "python",
   "name": "python3"
  },
  "language_info": {
   "codemirror_mode": {
    "name": "ipython",
    "version": 3
   },
   "file_extension": ".py",
   "mimetype": "text/x-python",
   "name": "python",
   "nbconvert_exporter": "python",
   "pygments_lexer": "ipython3",
   "version": "3.11.4"
  },
  "orig_nbformat": 4
 },
 "nbformat": 4,
 "nbformat_minor": 2
}
